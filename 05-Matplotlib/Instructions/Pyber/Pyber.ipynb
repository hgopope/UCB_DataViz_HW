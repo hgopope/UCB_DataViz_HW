{
 "cells": [
  {
   "cell_type": "code",
   "execution_count": 1,
   "metadata": {
    "collapsed": true
   },
   "outputs": [],
   "source": [
    "#Analysis:\n",
    "#Observed Trend #1: Rural rides, unsurprisingly, have less rides per city data available, and the greatest range of average fare cost.\n",
    "\n",
    "#Observed Trend #2: While about 78% of drivers are urban drivers, about 68% of rides were urban rides, meaning some urban drivers could be driving in suburban areas.\n",
    "\n",
    "#Observed Trend #3: The median average fare for an urban ride is about $25, or about $5 cheaper than the average fare of about $30 for suburban rides."
   ]
  },
  {
   "cell_type": "code",
   "execution_count": 2,
   "metadata": {
    "collapsed": true
   },
   "outputs": [],
   "source": [
    "import pandas as pd\n",
    "import os\n",
    "import numpy as np\n",
    "import matplotlib.pyplot as plt"
   ]
  },
  {
   "cell_type": "code",
   "execution_count": 3,
   "metadata": {
    "collapsed": true
   },
   "outputs": [],
   "source": [
    "file_one = os.path.join('raw_data', 'ride_data.csv')\n",
    "file_two = os.path.join('raw_data', 'city_data.csv')"
   ]
  },
  {
   "cell_type": "code",
   "execution_count": 4,
   "metadata": {
    "collapsed": true
   },
   "outputs": [],
   "source": [
    "file_one_df = pd.read_csv(file_one)\n",
    "file_two_df = pd.read_csv(file_two)"
   ]
  },
  {
   "cell_type": "code",
   "execution_count": 5,
   "metadata": {
    "collapsed": true
   },
   "outputs": [],
   "source": [
    "file_one_df = pd.read_csv(file_one, encoding=\"utf-8\")\n",
    "file_two_df = pd.read_csv(file_two, encoding=\"utf-8\")"
   ]
  },
  {
   "cell_type": "code",
   "execution_count": 6,
   "metadata": {},
   "outputs": [
    {
     "data": {
      "text/plain": [
       "city            2407\n",
       "date            2407\n",
       "fare            2407\n",
       "ride_id         2407\n",
       "driver_count    2407\n",
       "type            2407\n",
       "dtype: int64"
      ]
     },
     "execution_count": 6,
     "metadata": {},
     "output_type": "execute_result"
    }
   ],
   "source": [
    "merge_table = pd.merge(file_one_df, file_two_df,on=\"city\")\n",
    "merge_table=merge_table.sort_values('city',ascending=True)\n",
    "merge_table.count()"
   ]
  },
  {
   "cell_type": "code",
   "execution_count": 7,
   "metadata": {
    "collapsed": true
   },
   "outputs": [],
   "source": [
    "merge_table_rural=merge_table.loc[merge_table['type']=='Rural',:]\n",
    "merge_table_suburban=merge_table.loc[(merge_table['type']=='Suburban')]\n",
    "merge_table_urban=merge_table.loc[(merge_table['type']=='Urban')]"
   ]
  },
  {
   "cell_type": "code",
   "execution_count": 22,
   "metadata": {
    "collapsed": true
   },
   "outputs": [],
   "source": [
    "unique_rural=merge_table_rural['city'].unique()\n",
    "unique_suburban=merge_table_suburban['city'].unique()\n",
    "unique_urban=merge_table_urban['city'].unique()"
   ]
  },
  {
   "cell_type": "code",
   "execution_count": 25,
   "metadata": {},
   "outputs": [
    {
     "ename": "NameError",
     "evalue": "name 'ride_count_xyz' is not defined",
     "output_type": "error",
     "traceback": [
      "\u001b[0;31m---------------------------------------------------------------------------\u001b[0m",
      "\u001b[0;31mNameError\u001b[0m                                 Traceback (most recent call last)",
      "\u001b[0;32m<ipython-input-25-64abb39b3fe2>\u001b[0m in \u001b[0;36m<module>\u001b[0;34m()\u001b[0m\n\u001b[1;32m      1\u001b[0m \u001b[0mdriver_count_rural\u001b[0m\u001b[0;34m=\u001b[0m\u001b[0mfile_two_df\u001b[0m\u001b[0;34m.\u001b[0m\u001b[0mloc\u001b[0m\u001b[0;34m[\u001b[0m\u001b[0mfile_two_df\u001b[0m\u001b[0;34m[\u001b[0m\u001b[0;34m'type'\u001b[0m\u001b[0;34m]\u001b[0m\u001b[0;34m==\u001b[0m\u001b[0;34m'Rural'\u001b[0m\u001b[0;34m,\u001b[0m\u001b[0;34m:\u001b[0m\u001b[0;34m]\u001b[0m\u001b[0;34m\u001b[0m\u001b[0m\n\u001b[0;32m----> 2\u001b[0;31m \u001b[0mdriver_count_rural\u001b[0m\u001b[0;34m=\u001b[0m\u001b[0mride_count_xyz\u001b[0m\u001b[0;34m.\u001b[0m\u001b[0msort_values\u001b[0m\u001b[0;34m(\u001b[0m\u001b[0;34m[\u001b[0m\u001b[0;34m'city'\u001b[0m\u001b[0;34m]\u001b[0m\u001b[0;34m,\u001b[0m\u001b[0mascending\u001b[0m\u001b[0;34m=\u001b[0m\u001b[0;32mTrue\u001b[0m\u001b[0;34m)\u001b[0m\u001b[0;34m\u001b[0m\u001b[0m\n\u001b[0m\u001b[1;32m      3\u001b[0m \u001b[0;34m\u001b[0m\u001b[0m\n\u001b[1;32m      4\u001b[0m \u001b[0mdriver_count_suburban\u001b[0m\u001b[0;34m=\u001b[0m\u001b[0mfile_two_df\u001b[0m\u001b[0;34m.\u001b[0m\u001b[0mloc\u001b[0m\u001b[0;34m[\u001b[0m\u001b[0mfile_two_df\u001b[0m\u001b[0;34m[\u001b[0m\u001b[0;34m'type'\u001b[0m\u001b[0;34m]\u001b[0m\u001b[0;34m==\u001b[0m\u001b[0;34m'Suburban'\u001b[0m\u001b[0;34m,\u001b[0m\u001b[0;34m:\u001b[0m\u001b[0;34m]\u001b[0m\u001b[0;34m\u001b[0m\u001b[0m\n\u001b[1;32m      5\u001b[0m \u001b[0mdriver_count_suburban\u001b[0m\u001b[0;34m=\u001b[0m\u001b[0mride_count_xyz\u001b[0m\u001b[0;34m.\u001b[0m\u001b[0msort_values\u001b[0m\u001b[0;34m(\u001b[0m\u001b[0;34m[\u001b[0m\u001b[0;34m'city'\u001b[0m\u001b[0;34m]\u001b[0m\u001b[0;34m,\u001b[0m\u001b[0mascending\u001b[0m\u001b[0;34m=\u001b[0m\u001b[0;32mTrue\u001b[0m\u001b[0;34m)\u001b[0m\u001b[0;34m\u001b[0m\u001b[0m\n",
      "\u001b[0;31mNameError\u001b[0m: name 'ride_count_xyz' is not defined"
     ]
    }
   ],
   "source": [
    "driver_count_rural=file_two_df.loc[file_two_df['type']=='Rural',:]\n",
    "driver_count_rural=ride_count_xyz.sort_values(['city'],ascending=True)\n",
    "\n",
    "driver_count_suburban=file_two_df.loc[file_two_df['type']=='Suburban',:]\n",
    "driver_count_suburban=ride_count_xyz.sort_values(['city'],ascending=True)\n",
    "\n",
    "driver_count_urban=file_two_df.loc[file_two_df['type']=='Urban',:]\n",
    "driver_count_urban=ride_count_xyz.sort_values(['city'],ascending=True)"
   ]
  },
  {
   "cell_type": "code",
   "execution_count": 18,
   "metadata": {
    "collapsed": true
   },
   "outputs": [],
   "source": [
    "city_rural=merge_table_rural.groupby('city')\n",
    "ride_count_rural=city_rural['fare'].count()\n",
    "city_suburban=merge_table_suburban.groupby('city')\n",
    "ride_count_suburban=city_suburban['fare'].count()\n",
    "city_urban=merge_table_urban.groupby('city')\n",
    "ride_count_urban=city_urban['fare'].count()"
   ]
  },
  {
   "cell_type": "code",
   "execution_count": 19,
   "metadata": {
    "collapsed": true
   },
   "outputs": [],
   "source": [
    "rural_df=pd.DataFrame(ride_count_rural)\n",
    "rural_df['try this']=''\n",
    "rural_df['driver city']=unique_rural\n",
    "rural_df['total fare']=''\n",
    "rural_df['driver count']=''\n",
    "\n",
    "rural_fare_sum=city_rural['fare'].sum()\n",
    "rural_df['total fare']=rural_fare_sum\n",
    "average_rural=rural_fare_sum/ride_count_rural\n",
    "rural_df['try this']=average_rural"
   ]
  },
  {
   "cell_type": "code",
   "execution_count": 20,
   "metadata": {
    "collapsed": true
   },
   "outputs": [],
   "source": [
    "suburban_df=pd.DataFrame(ride_count_suburban)\n",
    "suburban_df['try this']=''\n",
    "rural_df['driver count']=''\n",
    "rural_df['total fare']=''\n",
    "\n",
    "suburban_fare_sum=city_suburban['fare'].sum()\n",
    "suburban_df['total fare']=suburban_fare_sum\n",
    "average_sub=suburban_fare_sum/ride_count_suburban\n",
    "suburban_df['try this']=average_sub"
   ]
  },
  {
   "cell_type": "code",
   "execution_count": 21,
   "metadata": {
    "collapsed": true
   },
   "outputs": [],
   "source": [
    "urban_df=pd.DataFrame(ride_count_urban)\n",
    "urban_df['try this']=''\n",
    "rural_df['driver count']=''\n",
    "rural_df['total fare']=''\n",
    "\n",
    "urban_fare_sum=city_urban['fare'].sum()\n",
    "average_urban=urban_fare_sum/ride_count_urban\n",
    "urban_df['try this']=average_urban"
   ]
  },
  {
   "cell_type": "code",
   "execution_count": 16,
   "metadata": {
    "scrolled": false
   },
   "outputs": [
    {
     "ename": "NameError",
     "evalue": "name 'driver_count_suburban' is not defined",
     "output_type": "error",
     "traceback": [
      "\u001b[0;31m---------------------------------------------------------------------------\u001b[0m",
      "\u001b[0;31mNameError\u001b[0m                                 Traceback (most recent call last)",
      "\u001b[0;32m<ipython-input-16-6eed260cb361>\u001b[0m in \u001b[0;36m<module>\u001b[0;34m()\u001b[0m\n\u001b[1;32m      2\u001b[0m \u001b[0;34m\u001b[0m\u001b[0m\n\u001b[1;32m      3\u001b[0m \u001b[0mplt\u001b[0m\u001b[0;34m.\u001b[0m\u001b[0mscatter\u001b[0m\u001b[0;34m(\u001b[0m\u001b[0mrural_df\u001b[0m\u001b[0;34m[\u001b[0m\u001b[0;34m'fare'\u001b[0m\u001b[0;34m]\u001b[0m\u001b[0;34m,\u001b[0m \u001b[0mrural_df\u001b[0m\u001b[0;34m[\u001b[0m\u001b[0;34m'try this'\u001b[0m\u001b[0;34m]\u001b[0m\u001b[0;34m,\u001b[0m \u001b[0mmarker\u001b[0m\u001b[0;34m=\u001b[0m\u001b[0;34m\"o\"\u001b[0m\u001b[0;34m,\u001b[0m \u001b[0mfacecolor\u001b[0m\u001b[0;34m=\u001b[0m\u001b[0;34m\"gold\"\u001b[0m\u001b[0;34m,\u001b[0m\u001b[0medgecolors\u001b[0m\u001b[0;34m=\u001b[0m\u001b[0;34m'black'\u001b[0m\u001b[0;34m,\u001b[0m\u001b[0msizes\u001b[0m\u001b[0;34m=\u001b[0m\u001b[0mdriver_count_rural\u001b[0m\u001b[0;34m[\u001b[0m\u001b[0;34m'driver_count'\u001b[0m\u001b[0;34m]\u001b[0m\u001b[0;34m*\u001b[0m\u001b[0;36m25\u001b[0m\u001b[0;34m,\u001b[0m\u001b[0malpha\u001b[0m\u001b[0;34m=\u001b[0m\u001b[0;36m0.75\u001b[0m\u001b[0;34m,\u001b[0m \u001b[0mlinewidth\u001b[0m\u001b[0;34m=\u001b[0m\u001b[0;36m1\u001b[0m\u001b[0;34m)\u001b[0m\u001b[0;34m\u001b[0m\u001b[0m\n\u001b[0;32m----> 4\u001b[0;31m \u001b[0mplt\u001b[0m\u001b[0;34m.\u001b[0m\u001b[0mscatter\u001b[0m\u001b[0;34m(\u001b[0m\u001b[0mride_count_suburban\u001b[0m\u001b[0;34m,\u001b[0m \u001b[0maverage_sub\u001b[0m\u001b[0;34m,\u001b[0m \u001b[0mmarker\u001b[0m\u001b[0;34m=\u001b[0m\u001b[0;34m\"o\"\u001b[0m\u001b[0;34m,\u001b[0m \u001b[0mfacecolor\u001b[0m\u001b[0;34m=\u001b[0m\u001b[0;34m\"#87CEFA\"\u001b[0m\u001b[0;34m,\u001b[0m\u001b[0medgecolors\u001b[0m\u001b[0;34m=\u001b[0m\u001b[0;34m'black'\u001b[0m\u001b[0;34m,\u001b[0m\u001b[0msizes\u001b[0m\u001b[0;34m=\u001b[0m\u001b[0mdriver_count_suburban\u001b[0m\u001b[0;34m[\u001b[0m\u001b[0;34m'driver_count'\u001b[0m\u001b[0;34m]\u001b[0m\u001b[0;34m*\u001b[0m\u001b[0;36m25\u001b[0m\u001b[0;34m,\u001b[0m\u001b[0malpha\u001b[0m\u001b[0;34m=\u001b[0m\u001b[0;36m0.75\u001b[0m\u001b[0;34m,\u001b[0m \u001b[0mlinewidth\u001b[0m\u001b[0;34m=\u001b[0m\u001b[0;36m1\u001b[0m\u001b[0;34m)\u001b[0m\u001b[0;34m\u001b[0m\u001b[0m\n\u001b[0m\u001b[1;32m      5\u001b[0m \u001b[0mplt\u001b[0m\u001b[0;34m.\u001b[0m\u001b[0mscatter\u001b[0m\u001b[0;34m(\u001b[0m\u001b[0mride_count_urban\u001b[0m\u001b[0;34m,\u001b[0m \u001b[0maverage_urban\u001b[0m\u001b[0;34m,\u001b[0m \u001b[0mmarker\u001b[0m\u001b[0;34m=\u001b[0m\u001b[0;34m\"o\"\u001b[0m\u001b[0;34m,\u001b[0m \u001b[0mfacecolor\u001b[0m\u001b[0;34m=\u001b[0m\u001b[0;34m\"#F08080\"\u001b[0m\u001b[0;34m,\u001b[0m\u001b[0medgecolors\u001b[0m\u001b[0;34m=\u001b[0m\u001b[0;34m'black'\u001b[0m\u001b[0;34m,\u001b[0m\u001b[0msizes\u001b[0m\u001b[0;34m=\u001b[0m\u001b[0mdriver_count_urban\u001b[0m\u001b[0;34m[\u001b[0m\u001b[0;34m'driver_count'\u001b[0m\u001b[0;34m]\u001b[0m\u001b[0;34m*\u001b[0m\u001b[0;36m25\u001b[0m\u001b[0;34m,\u001b[0m\u001b[0malpha\u001b[0m\u001b[0;34m=\u001b[0m\u001b[0;36m0.75\u001b[0m\u001b[0;34m,\u001b[0m \u001b[0mlinewidth\u001b[0m\u001b[0;34m=\u001b[0m\u001b[0;36m1\u001b[0m\u001b[0;34m)\u001b[0m\u001b[0;34m\u001b[0m\u001b[0m\n\u001b[1;32m      6\u001b[0m \u001b[0;34m\u001b[0m\u001b[0m\n",
      "\u001b[0;31mNameError\u001b[0m: name 'driver_count_suburban' is not defined"
     ]
    }
   ],
   "source": [
    "plt.hlines(10,50,100,alpha=1)\n",
    "\n",
    "plt.scatter(rural_df['fare'], rural_df['try this'], marker=\"o\", facecolor=\"gold\",edgecolors='black',sizes=driver_count_rural['driver_count']*25,alpha=0.75, linewidth=1)\n",
    "plt.scatter(ride_count_suburban, average_sub, marker=\"o\", facecolor=\"#87CEFA\",edgecolors='black',sizes=driver_count_suburban['driver_count']*25,alpha=0.75, linewidth=1)\n",
    "plt.scatter(ride_count_urban, average_urban, marker=\"o\", facecolor=\"#F08080\",edgecolors='black',sizes=driver_count_urban['driver_count']*25,alpha=0.75, linewidth=1)\n",
    "\n",
    "plt.ylim(15,55)\n",
    "plt.xlim(0,70)\n",
    "plt.title(\"Pyber Ride Sharing Data (2016)\")\n",
    "plt.xlabel(\"Total Number of Rides (Per City)\")\n",
    "plt.ylabel(\"Average Fare ($)\")\n",
    "\n",
    "plt.text(72,35,'Note:')\n",
    "plt.text(72,32,'Circle size correlates to driver count per city.')\n",
    "plt.legend()\n",
    "plt.rcParams['axes.facecolor'] = 'lightgray'\n",
    "\n",
    "plt.grid()\n",
    "plt.show()"
   ]
  },
  {
   "cell_type": "code",
   "execution_count": null,
   "metadata": {
    "collapsed": true
   },
   "outputs": [],
   "source": [
    "#break"
   ]
  },
  {
   "cell_type": "code",
   "execution_count": null,
   "metadata": {
    "collapsed": true
   },
   "outputs": [],
   "source": [
    "merge_table_rural=merge_table.loc[(merge_table['type']=='Rural')]\n",
    "merge_table_suburban=merge_table.loc[(merge_table['type']=='Suburban')]\n",
    "merge_table_urban=merge_table.loc[(merge_table['type']=='Urban')]\n",
    "\n",
    "rural_sum=merge_table_rural['fare'].sum()\n",
    "suburban_sum=merge_table_suburban['fare'].sum()\n",
    "urban_sum=merge_table_urban['fare'].sum()\n",
    "total_sum=merge_table['fare'].sum()"
   ]
  },
  {
   "cell_type": "code",
   "execution_count": null,
   "metadata": {
    "collapsed": true
   },
   "outputs": [],
   "source": [
    "sizes_fare=[rural_sum/total_sum,suburban_sum/total_sum,urban_sum/total_sum]"
   ]
  },
  {
   "cell_type": "code",
   "execution_count": null,
   "metadata": {},
   "outputs": [],
   "source": [
    "labels = ['Rural','Suburban','Urban']\n",
    "plt.title('% of Total Fares by City Type')\n",
    "colors=['Gold', '#87CEFA', '#F08080']\n",
    "explode=[0,0,0.1]\n",
    "plt.pie(sizes_fare,labels=labels,colors=colors,explode=explode,autopct='{0:1.1f}%'.format,shadow=True,startangle=140)"
   ]
  },
  {
   "cell_type": "code",
   "execution_count": null,
   "metadata": {},
   "outputs": [],
   "source": [
    "plt.show()"
   ]
  },
  {
   "cell_type": "code",
   "execution_count": null,
   "metadata": {
    "collapsed": true
   },
   "outputs": [],
   "source": [
    "#break"
   ]
  },
  {
   "cell_type": "code",
   "execution_count": null,
   "metadata": {
    "collapsed": true
   },
   "outputs": [],
   "source": [
    "rural_sum_ride=merge_table_rural['ride_id'].sum()\n",
    "suburban_sum_ride=merge_table_suburban['ride_id'].sum()\n",
    "urban_sum_ride=merge_table_urban['ride_id'].sum()\n",
    "total_sum_ride=merge_table['ride_id'].sum()"
   ]
  },
  {
   "cell_type": "code",
   "execution_count": null,
   "metadata": {
    "collapsed": true
   },
   "outputs": [],
   "source": [
    "sizes_ride=[rural_sum_ride/total_sum_ride,suburban_sum_ride/total_sum_ride,urban_sum_ride/total_sum_ride]"
   ]
  },
  {
   "cell_type": "code",
   "execution_count": null,
   "metadata": {},
   "outputs": [],
   "source": [
    "labels = ['Rural','Suburban','Urban']\n",
    "plt.title('% of Total Rides by City Type')\n",
    "size_rural=int(city_type_count_df.loc['Rural'])\n",
    "size_suburban=int(city_type_count_df.loc['Suburban'])\n",
    "size_urban=int(city_type_count_df.loc['Urban'])\n",
    "sizes=[sizes_fare_ride,size_suburban,size_urban]\n",
    "colors=['Gold', '#87CEFA', '#F08080']\n",
    "explode=[0,0,0.1]\n",
    "plt.pie(sizes_ride,labels=labels,colors=colors,explode=explode,autopct='{0:1.1f}%'.format,shadow=True,startangle=140)"
   ]
  },
  {
   "cell_type": "code",
   "execution_count": null,
   "metadata": {},
   "outputs": [],
   "source": [
    "plt.show()"
   ]
  },
  {
   "cell_type": "code",
   "execution_count": null,
   "metadata": {
    "collapsed": true
   },
   "outputs": [],
   "source": [
    "#break"
   ]
  },
  {
   "cell_type": "code",
   "execution_count": null,
   "metadata": {
    "collapsed": true
   },
   "outputs": [],
   "source": [
    "city_table_rural=file_two_df.loc[(file_two_df['type']=='Rural')]\n",
    "city_table_suburban=file_two_df.loc[(file_two_df['type']=='Suburban')]\n",
    "city_table_urban=file_two_df.loc[(file_two_df['type']=='Urban')]\n",
    "\n",
    "rural_driver=city_table_rural['driver_count'].sum()\n",
    "suburban_driver=city_table_suburban['driver_count'].sum()\n",
    "urban_driver=city_table_urban['driver_count'].sum()\n",
    "total_driver=file_two_df['driver_count'].sum()"
   ]
  },
  {
   "cell_type": "code",
   "execution_count": null,
   "metadata": {
    "collapsed": true
   },
   "outputs": [],
   "source": [
    "sizes_driver=[rural_driver/total_driver,suburban_driver/total_driver,urban_driver/total_driver]"
   ]
  },
  {
   "cell_type": "code",
   "execution_count": null,
   "metadata": {},
   "outputs": [],
   "source": [
    "labels = ['Rural','Suburban','Urban']\n",
    "plt.title('% of Total Drivers by City Type')\n",
    "colors=['Gold', '#87CEFA', '#F08080']\n",
    "explode=[0,0,0.1]\n",
    "plt.pie(sizes_driver,labels=labels,colors=colors,explode=explode,autopct='{0:1.1f}%'.format,shadow=True,startangle=140)"
   ]
  },
  {
   "cell_type": "code",
   "execution_count": null,
   "metadata": {},
   "outputs": [],
   "source": [
    "plt.show()"
   ]
  },
  {
   "cell_type": "code",
   "execution_count": null,
   "metadata": {
    "collapsed": true
   },
   "outputs": [],
   "source": []
  },
  {
   "cell_type": "code",
   "execution_count": null,
   "metadata": {
    "collapsed": true
   },
   "outputs": [],
   "source": []
  },
  {
   "cell_type": "code",
   "execution_count": null,
   "metadata": {
    "collapsed": true
   },
   "outputs": [],
   "source": []
  }
 ],
 "metadata": {
  "kernelspec": {
   "display_name": "Python 3",
   "language": "python",
   "name": "python3"
  },
  "language_info": {
   "codemirror_mode": {
    "name": "ipython",
    "version": 3
   },
   "file_extension": ".py",
   "mimetype": "text/x-python",
   "name": "python",
   "nbconvert_exporter": "python",
   "pygments_lexer": "ipython3",
   "version": "3.6.2"
  }
 },
 "nbformat": 4,
 "nbformat_minor": 2
}
