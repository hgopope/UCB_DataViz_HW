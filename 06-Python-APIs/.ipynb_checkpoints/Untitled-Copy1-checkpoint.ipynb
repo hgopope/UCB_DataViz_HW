{
 "cells": [
  {
   "cell_type": "code",
   "execution_count": null,
   "metadata": {
    "collapsed": true
   },
   "outputs": [],
   "source": [
    "import json\n",
    "import requests as req\n",
    "from citipy import citipy\n",
    "import numpy.random as random\n",
    "import matplotlib.pyplot as plt\n",
    "import pandas as pd\n",
    "import csv\n",
    "import kdtree\n",
    "import os"
   ]
  },
  {
   "cell_type": "code",
   "execution_count": 2,
   "metadata": {},
   "outputs": [],
   "source": [
    "class City:\n",
    "    '''\n",
    "    City wraps up the info about a city, including its name, coordinates,\n",
    "    and belonging country.\n",
    "    '''\n",
    "    def __init__(self, city_name, country_code):\n",
    "        self.city_name = city_name\n",
    "        self.country_code = country_code\n",
    "\n",
    "# load the city data up\n",
    "#_current_dir, _current_filename = os.path.split(__file__)\n",
    "_world_cities_csv_path = os.path.join('worldcities.csv')\n",
    "_world_cities_kdtree = kdtree.create(dimensions=2)\n",
    "WORLD_CITIES_DICT = {}\n",
    "\n",
    "with open(_world_cities_csv_path, 'r') as csv_file:\n",
    "    cities = csv.reader(csv_file)\n",
    "\n",
    "    # discard the headers\n",
    "    cities.__next__()\n",
    "\n",
    "    # populate geo points into kdtree\n",
    "    for city in cities:\n",
    "        city_coordinate_key = (float(city[2]), float(city[3]))\n",
    "        _world_cities_kdtree.add(city_coordinate_key)\n",
    "        c = City(city[1], city[0])\n",
    "        WORLD_CITIES_DICT[city_coordinate_key] = c\n",
    "\n",
    "def nearest_city(latitude, longitude):\n",
    "    nearest_city_coordinate = _world_cities_kdtree.search_nn((latitude, longitude, ))\n",
    "    return WORLD_CITIES_DICT[nearest_city_coordinate[0].data]"
   ]
  },
  {
   "cell_type": "code",
   "execution_count": 3,
   "metadata": {
    "collapsed": true
   },
   "outputs": [],
   "source": [
    "apikey='cc8028c62f0742cf38eef5a866d89c64'\n",
    "url = 'https://api.openweathermap.org/data/2.5/weather?q='\n",
    "\n",
    "city_list=[]\n",
    "cloudiness_list=[]\n",
    "country_list=[]\n",
    "date_list=[]\n",
    "humidity_list=[]\n",
    "lat_list=[]\n",
    "long_list=[]\n",
    "max_temp_list=[]\n",
    "wind_speed_list=[]"
   ]
  },
  {
   "cell_type": "code",
   "execution_count": null,
   "metadata": {
    "collapsed": true
   },
   "outputs": [],
   "source": [
    "n_requests = 70\n",
    "long_random = random.randint(-180, 180, size=n_requests)\n",
    "lat_random= random.randint(-90,90, size=n_requests)"
   ]
  },
  {
   "cell_type": "code",
   "execution_count": null,
   "metadata": {},
   "outputs": [],
   "source": [
    "zipped=zip(lat_random,long_random)\n",
    "\n",
    "for lat,lon in zipped:\n",
    "\n",
    "    city=nearest_city(lat,lon)\n",
    "    city__name=city.city_name\n",
    "    \n",
    "    response=req.get(url + city__name +'&units=imperial'+'&APPID=' + apikey).json()\n",
    "    #print(json.dumps(response, indent=4))\n",
    "    \n",
    "    try:\n",
    "        temps=response['main']['temp_max']\n",
    "        max_temp_list.append(temps)\n",
    "\n",
    "        humidity=response['main']['humidity']\n",
    "        humidity_list.append(humidity)\n",
    "\n",
    "        cloudiness=response['clouds']['all']\n",
    "        cloudiness_list.append(cloudiness)\n",
    "\n",
    "        wind=response['wind']['speed']\n",
    "        wind_speed_list.append(wind)\n",
    "\n",
    "        lat_list.append(lat)\n",
    "        \n",
    "        city_list.append(city__name)\n",
    "        \n",
    "    except:\n",
    "        KeyError: 'main'\n",
    "        KeyError: 'clouds'\n",
    "        KeyError:  'wind'\n",
    "        KeyError: 'temp_max'\n",
    "        KeyError: 'humidity'\n",
    "        KeyError: 'all'\n",
    "        KeyError:'speed'\n",
    "            \n",
    "        len(city_list)==501"
   ]
  },
  {
   "cell_type": "code",
   "execution_count": null,
   "metadata": {},
   "outputs": [],
   "source": [
    "print(len(city_list))"
   ]
  },
  {
   "cell_type": "code",
   "execution_count": null,
   "metadata": {},
   "outputs": [],
   "source": [
    "city_df=pd.DataFrame({'City':city_list,'Max Temp':max_temp_list,\n",
    "                      'Humidity':humidity_list,\n",
    "                      'Cloudiness':cloudiness_list,\n",
    "                      'Wind Speed':wind_speed_list,\n",
    "                      'Latitude':lat_list})"
   ]
  },
  {
   "cell_type": "code",
   "execution_count": null,
   "metadata": {},
   "outputs": [],
   "source": [
    "plt.grid(True,color='white')\n",
    "plt.scatter(city_df['Latitude'],city_df['Max Temp'],\n",
    "            marker='o',facecolors='green',alpha=0.75,edgecolors='blue')\n",
    "\n",
    "plt.title('City Latitude vs. Max Temperature')\n",
    "plt.xlabel('Latitude')\n",
    "plt.ylabel('Max Temperature(F)')\n",
    "plt.xlim(-90,90)\n",
    "\n",
    "ax=plt.gca()\n",
    "ax.set_facecolor('lightgray')\n",
    "\n",
    "plt.show()"
   ]
  },
  {
   "cell_type": "code",
   "execution_count": null,
   "metadata": {
    "collapsed": true
   },
   "outputs": [],
   "source": []
  },
  {
   "cell_type": "code",
   "execution_count": null,
   "metadata": {
    "collapsed": true
   },
   "outputs": [],
   "source": []
  },
  {
   "cell_type": "code",
   "execution_count": null,
   "metadata": {
    "collapsed": true
   },
   "outputs": [],
   "source": []
  }
 ],
 "metadata": {
  "kernelspec": {
   "display_name": "Python 3",
   "language": "python",
   "name": "python3"
  },
  "language_info": {
   "codemirror_mode": {
    "name": "ipython",
    "version": 3
   },
   "file_extension": ".py",
   "mimetype": "text/x-python",
   "name": "python",
   "nbconvert_exporter": "python",
   "pygments_lexer": "ipython3",
   "version": "3.6.2"
  }
 },
 "nbformat": 4,
 "nbformat_minor": 2
}
