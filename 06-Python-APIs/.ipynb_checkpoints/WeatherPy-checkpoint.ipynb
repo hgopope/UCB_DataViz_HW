{
 "cells": [
  {
   "cell_type": "code",
   "execution_count": 1,
   "metadata": {
    "collapsed": true
   },
   "outputs": [],
   "source": [
    "#Observed Trend 1: Max temperatures appear to increase moving away from the poles \n",
    "#toward the equator, thus showing \"it gets hotter.\"\n",
    "\n",
    "#Observed Trend 2: Max wind speeds tend to be most extreme in northern hemishpere.\n",
    "\n",
    "#Observed Trend#3: Humidity is likely to increase moving north in the northern hemisphere."
   ]
  },
  {
   "cell_type": "code",
   "execution_count": 2,
   "metadata": {
    "collapsed": true
   },
   "outputs": [],
   "source": [
    "import json\n",
    "import requests as req\n",
    "from citipy import citipy\n",
    "import numpy.random as random\n",
    "import matplotlib.pyplot as plt\n",
    "import pandas as pd\n",
    "import csv\n",
    "import kdtree\n",
    "import os\n",
    "import seaborn"
   ]
  },
  {
   "cell_type": "code",
   "execution_count": 3,
   "metadata": {
    "collapsed": true
   },
   "outputs": [],
   "source": [
    "class City:\n",
    "    '''\n",
    "    City wraps up the info about a city, including its name, coordinates,\n",
    "    and belonging country.\n",
    "    '''\n",
    "    def __init__(self, city_name, country_code):\n",
    "        self.city_name = city_name\n",
    "        self.country_code = country_code\n",
    "\n",
    "# load the city data up\n",
    "#_current_dir, _current_filename = os.path.split(__file__)\n",
    "_world_cities_csv_path = os.path.join('worldcities.csv')\n",
    "_world_cities_kdtree = kdtree.create(dimensions=2)\n",
    "WORLD_CITIES_DICT = {}\n",
    "\n",
    "with open(_world_cities_csv_path, 'r') as csv_file:\n",
    "    cities = csv.reader(csv_file)\n",
    "\n",
    "    # discard the headers\n",
    "    cities.__next__()\n",
    "\n",
    "    # populate geo points into kdtree\n",
    "    for city in cities:\n",
    "        city_coordinate_key = (float(city[2]), float(city[3]))\n",
    "        _world_cities_kdtree.add(city_coordinate_key)\n",
    "        c = City(city[1], city[0])\n",
    "        WORLD_CITIES_DICT[city_coordinate_key] = c\n",
    "\n",
    "def nearest_city(latitude, longitude):\n",
    "    nearest_city_coordinate = _world_cities_kdtree.search_nn((latitude, longitude, ))\n",
    "    return WORLD_CITIES_DICT[nearest_city_coordinate[0].data]"
   ]
  },
  {
   "cell_type": "code",
   "execution_count": null,
   "metadata": {
    "collapsed": true
   },
   "outputs": [],
   "source": [
    "apikey='cc8028c62f0742cf38eef5a866d89c64'\n",
    "url = 'https://api.openweathermap.org/data/2.5/weather?q='\n",
    "\n",
    "city_list=[]\n",
    "cloudiness_list=[]\n",
    "country_list=[]\n",
    "date_list=[]\n",
    "humidity_list=[]\n",
    "lat_list=[]\n",
    "long_list=[]\n",
    "max_temp_list=[]\n",
    "wind_speed_list=[]\n",
    "request_list=[]"
   ]
  },
  {
   "cell_type": "code",
   "execution_count": null,
   "metadata": {},
   "outputs": [
    {
     "name": "stdout",
     "output_type": "stream",
     "text": [
      "Beginning Data Retrieval\n",
      "------------------------\n",
      "https://api.openweathermap.org/data/2.5/weather?q=hobart&units=imperial&APPID=cc8028c62f0742cf38eef5a866d89c64\n",
      "https://api.openweathermap.org/data/2.5/weather?q=luderitz&units=imperial&APPID=cc8028c62f0742cf38eef5a866d89c64\n",
      "https://api.openweathermap.org/data/2.5/weather?q=beloha&units=imperial&APPID=cc8028c62f0742cf38eef5a866d89c64\n",
      "https://api.openweathermap.org/data/2.5/weather?q=tlazazalca&units=imperial&APPID=cc8028c62f0742cf38eef5a866d89c64\n",
      "https://api.openweathermap.org/data/2.5/weather?q=leshukonskoye&units=imperial&APPID=cc8028c62f0742cf38eef5a866d89c64\n",
      "https://api.openweathermap.org/data/2.5/weather?q=cuiluan&units=imperial&APPID=cc8028c62f0742cf38eef5a866d89c64\n",
      "https://api.openweathermap.org/data/2.5/weather?q=rikitea&units=imperial&APPID=cc8028c62f0742cf38eef5a866d89c64\n",
      "https://api.openweathermap.org/data/2.5/weather?q=arraial do cabo&units=imperial&APPID=cc8028c62f0742cf38eef5a866d89c64\n",
      "https://api.openweathermap.org/data/2.5/weather?q=oranjemund&units=imperial&APPID=cc8028c62f0742cf38eef5a866d89c64\n",
      "https://api.openweathermap.org/data/2.5/weather?q=kapaa&units=imperial&APPID=cc8028c62f0742cf38eef5a866d89c64\n",
      "https://api.openweathermap.org/data/2.5/weather?q=bilma&units=imperial&APPID=cc8028c62f0742cf38eef5a866d89c64\n",
      "https://api.openweathermap.org/data/2.5/weather?q=atuona&units=imperial&APPID=cc8028c62f0742cf38eef5a866d89c64\n",
      "https://api.openweathermap.org/data/2.5/weather?q=mount isa&units=imperial&APPID=cc8028c62f0742cf38eef5a866d89c64\n",
      "https://api.openweathermap.org/data/2.5/weather?q=yellowknife&units=imperial&APPID=cc8028c62f0742cf38eef5a866d89c64\n",
      "https://api.openweathermap.org/data/2.5/weather?q=tuatapere&units=imperial&APPID=cc8028c62f0742cf38eef5a866d89c64\n",
      "https://api.openweathermap.org/data/2.5/weather?q=saint-philippe&units=imperial&APPID=cc8028c62f0742cf38eef5a866d89c64\n",
      "https://api.openweathermap.org/data/2.5/weather?q=cabo san lucas&units=imperial&APPID=cc8028c62f0742cf38eef5a866d89c64\n",
      "https://api.openweathermap.org/data/2.5/weather?q=busselton&units=imperial&APPID=cc8028c62f0742cf38eef5a866d89c64\n",
      "https://api.openweathermap.org/data/2.5/weather?q=ostersund&units=imperial&APPID=cc8028c62f0742cf38eef5a866d89c64\n",
      "https://api.openweathermap.org/data/2.5/weather?q=butaritari&units=imperial&APPID=cc8028c62f0742cf38eef5a866d89c64\n",
      "https://api.openweathermap.org/data/2.5/weather?q=tommot&units=imperial&APPID=cc8028c62f0742cf38eef5a866d89c64\n",
      "https://api.openweathermap.org/data/2.5/weather?q=kodiak&units=imperial&APPID=cc8028c62f0742cf38eef5a866d89c64\n",
      "https://api.openweathermap.org/data/2.5/weather?q=isangel&units=imperial&APPID=cc8028c62f0742cf38eef5a866d89c64\n",
      "https://api.openweathermap.org/data/2.5/weather?q=albany&units=imperial&APPID=cc8028c62f0742cf38eef5a866d89c64\n",
      "https://api.openweathermap.org/data/2.5/weather?q=albany&units=imperial&APPID=cc8028c62f0742cf38eef5a866d89c64\n",
      "https://api.openweathermap.org/data/2.5/weather?q=saint anthony&units=imperial&APPID=cc8028c62f0742cf38eef5a866d89c64\n",
      "https://api.openweathermap.org/data/2.5/weather?q=hasaki&units=imperial&APPID=cc8028c62f0742cf38eef5a866d89c64\n",
      "https://api.openweathermap.org/data/2.5/weather?q=mahibadhoo&units=imperial&APPID=cc8028c62f0742cf38eef5a866d89c64\n",
      "https://api.openweathermap.org/data/2.5/weather?q=kodiak&units=imperial&APPID=cc8028c62f0742cf38eef5a866d89c64\n",
      "https://api.openweathermap.org/data/2.5/weather?q=bethel&units=imperial&APPID=cc8028c62f0742cf38eef5a866d89c64\n",
      "https://api.openweathermap.org/data/2.5/weather?q=mataura&units=imperial&APPID=cc8028c62f0742cf38eef5a866d89c64\n",
      "https://api.openweathermap.org/data/2.5/weather?q=ganzhou&units=imperial&APPID=cc8028c62f0742cf38eef5a866d89c64\n",
      "https://api.openweathermap.org/data/2.5/weather?q=teguise&units=imperial&APPID=cc8028c62f0742cf38eef5a866d89c64\n",
      "https://api.openweathermap.org/data/2.5/weather?q=barrow&units=imperial&APPID=cc8028c62f0742cf38eef5a866d89c64\n",
      "https://api.openweathermap.org/data/2.5/weather?q=mataura&units=imperial&APPID=cc8028c62f0742cf38eef5a866d89c64\n",
      "https://api.openweathermap.org/data/2.5/weather?q=hervey bay&units=imperial&APPID=cc8028c62f0742cf38eef5a866d89c64\n",
      "https://api.openweathermap.org/data/2.5/weather?q=campbell river&units=imperial&APPID=cc8028c62f0742cf38eef5a866d89c64\n",
      "https://api.openweathermap.org/data/2.5/weather?q=bubaque&units=imperial&APPID=cc8028c62f0742cf38eef5a866d89c64\n",
      "https://api.openweathermap.org/data/2.5/weather?q=tasiilaq&units=imperial&APPID=cc8028c62f0742cf38eef5a866d89c64\n",
      "https://api.openweathermap.org/data/2.5/weather?q=atuona&units=imperial&APPID=cc8028c62f0742cf38eef5a866d89c64\n",
      "https://api.openweathermap.org/data/2.5/weather?q=rikitea&units=imperial&APPID=cc8028c62f0742cf38eef5a866d89c64\n",
      "https://api.openweathermap.org/data/2.5/weather?q=tarakan&units=imperial&APPID=cc8028c62f0742cf38eef5a866d89c64\n",
      "https://api.openweathermap.org/data/2.5/weather?q=mataura&units=imperial&APPID=cc8028c62f0742cf38eef5a866d89c64\n",
      "https://api.openweathermap.org/data/2.5/weather?q=alofi&units=imperial&APPID=cc8028c62f0742cf38eef5a866d89c64\n",
      "https://api.openweathermap.org/data/2.5/weather?q=bethel&units=imperial&APPID=cc8028c62f0742cf38eef5a866d89c64\n",
      "https://api.openweathermap.org/data/2.5/weather?q=sayyan&units=imperial&APPID=cc8028c62f0742cf38eef5a866d89c64\n",
      "https://api.openweathermap.org/data/2.5/weather?q=palmer&units=imperial&APPID=cc8028c62f0742cf38eef5a866d89c64\n",
      "https://api.openweathermap.org/data/2.5/weather?q=busselton&units=imperial&APPID=cc8028c62f0742cf38eef5a866d89c64\n",
      "https://api.openweathermap.org/data/2.5/weather?q=leeton&units=imperial&APPID=cc8028c62f0742cf38eef5a866d89c64\n",
      "https://api.openweathermap.org/data/2.5/weather?q=provideniya&units=imperial&APPID=cc8028c62f0742cf38eef5a866d89c64\n",
      "https://api.openweathermap.org/data/2.5/weather?q=toucheng&units=imperial&APPID=cc8028c62f0742cf38eef5a866d89c64\n",
      "https://api.openweathermap.org/data/2.5/weather?q=petropavlovsk-kamchatskiy&units=imperial&APPID=cc8028c62f0742cf38eef5a866d89c64\n",
      "https://api.openweathermap.org/data/2.5/weather?q=maralal&units=imperial&APPID=cc8028c62f0742cf38eef5a866d89c64\n",
      "https://api.openweathermap.org/data/2.5/weather?q=touros&units=imperial&APPID=cc8028c62f0742cf38eef5a866d89c64\n",
      "https://api.openweathermap.org/data/2.5/weather?q=fasa&units=imperial&APPID=cc8028c62f0742cf38eef5a866d89c64\n",
      "https://api.openweathermap.org/data/2.5/weather?q=mahajanga&units=imperial&APPID=cc8028c62f0742cf38eef5a866d89c64\n",
      "https://api.openweathermap.org/data/2.5/weather?q=chocaman&units=imperial&APPID=cc8028c62f0742cf38eef5a866d89c64\n",
      "https://api.openweathermap.org/data/2.5/weather?q=busselton&units=imperial&APPID=cc8028c62f0742cf38eef5a866d89c64\n",
      "https://api.openweathermap.org/data/2.5/weather?q=rikitea&units=imperial&APPID=cc8028c62f0742cf38eef5a866d89c64\n",
      "https://api.openweathermap.org/data/2.5/weather?q=kinablangan&units=imperial&APPID=cc8028c62f0742cf38eef5a866d89c64\n",
      "https://api.openweathermap.org/data/2.5/weather?q=cabo san lucas&units=imperial&APPID=cc8028c62f0742cf38eef5a866d89c64\n",
      "https://api.openweathermap.org/data/2.5/weather?q=xining&units=imperial&APPID=cc8028c62f0742cf38eef5a866d89c64\n",
      "https://api.openweathermap.org/data/2.5/weather?q=saravan&units=imperial&APPID=cc8028c62f0742cf38eef5a866d89c64\n",
      "https://api.openweathermap.org/data/2.5/weather?q=sao filipe&units=imperial&APPID=cc8028c62f0742cf38eef5a866d89c64\n",
      "https://api.openweathermap.org/data/2.5/weather?q=faya&units=imperial&APPID=cc8028c62f0742cf38eef5a866d89c64\n",
      "https://api.openweathermap.org/data/2.5/weather?q=darnah&units=imperial&APPID=cc8028c62f0742cf38eef5a866d89c64\n",
      "https://api.openweathermap.org/data/2.5/weather?q=jamestown&units=imperial&APPID=cc8028c62f0742cf38eef5a866d89c64\n",
      "https://api.openweathermap.org/data/2.5/weather?q=jamestown&units=imperial&APPID=cc8028c62f0742cf38eef5a866d89c64\n",
      "https://api.openweathermap.org/data/2.5/weather?q=rikitea&units=imperial&APPID=cc8028c62f0742cf38eef5a866d89c64\n",
      "https://api.openweathermap.org/data/2.5/weather?q=bandarbeyla&units=imperial&APPID=cc8028c62f0742cf38eef5a866d89c64\n",
      "https://api.openweathermap.org/data/2.5/weather?q=coihaique&units=imperial&APPID=cc8028c62f0742cf38eef5a866d89c64\n",
      "https://api.openweathermap.org/data/2.5/weather?q=itoman&units=imperial&APPID=cc8028c62f0742cf38eef5a866d89c64\n"
     ]
    },
    {
     "name": "stdout",
     "output_type": "stream",
     "text": [
      "https://api.openweathermap.org/data/2.5/weather?q=port alfred&units=imperial&APPID=cc8028c62f0742cf38eef5a866d89c64\n",
      "https://api.openweathermap.org/data/2.5/weather?q=punta arenas&units=imperial&APPID=cc8028c62f0742cf38eef5a866d89c64\n",
      "https://api.openweathermap.org/data/2.5/weather?q=kumluca&units=imperial&APPID=cc8028c62f0742cf38eef5a866d89c64\n",
      "https://api.openweathermap.org/data/2.5/weather?q=lebu&units=imperial&APPID=cc8028c62f0742cf38eef5a866d89c64\n",
      "https://api.openweathermap.org/data/2.5/weather?q=puerto ayora&units=imperial&APPID=cc8028c62f0742cf38eef5a866d89c64\n",
      "https://api.openweathermap.org/data/2.5/weather?q=tura&units=imperial&APPID=cc8028c62f0742cf38eef5a866d89c64\n",
      "https://api.openweathermap.org/data/2.5/weather?q=atuona&units=imperial&APPID=cc8028c62f0742cf38eef5a866d89c64\n",
      "https://api.openweathermap.org/data/2.5/weather?q=luderitz&units=imperial&APPID=cc8028c62f0742cf38eef5a866d89c64\n",
      "https://api.openweathermap.org/data/2.5/weather?q=manokwari&units=imperial&APPID=cc8028c62f0742cf38eef5a866d89c64\n",
      "https://api.openweathermap.org/data/2.5/weather?q=rikitea&units=imperial&APPID=cc8028c62f0742cf38eef5a866d89c64\n",
      "https://api.openweathermap.org/data/2.5/weather?q=rikitea&units=imperial&APPID=cc8028c62f0742cf38eef5a866d89c64\n",
      "https://api.openweathermap.org/data/2.5/weather?q=esperance&units=imperial&APPID=cc8028c62f0742cf38eef5a866d89c64\n",
      "https://api.openweathermap.org/data/2.5/weather?q=rikitea&units=imperial&APPID=cc8028c62f0742cf38eef5a866d89c64\n",
      "https://api.openweathermap.org/data/2.5/weather?q=tuktoyaktuk&units=imperial&APPID=cc8028c62f0742cf38eef5a866d89c64\n",
      "https://api.openweathermap.org/data/2.5/weather?q=farah&units=imperial&APPID=cc8028c62f0742cf38eef5a866d89c64\n",
      "https://api.openweathermap.org/data/2.5/weather?q=poum&units=imperial&APPID=cc8028c62f0742cf38eef5a866d89c64\n",
      "https://api.openweathermap.org/data/2.5/weather?q=tiksi&units=imperial&APPID=cc8028c62f0742cf38eef5a866d89c64\n",
      "https://api.openweathermap.org/data/2.5/weather?q=busselton&units=imperial&APPID=cc8028c62f0742cf38eef5a866d89c64\n",
      "https://api.openweathermap.org/data/2.5/weather?q=east london&units=imperial&APPID=cc8028c62f0742cf38eef5a866d89c64\n",
      "https://api.openweathermap.org/data/2.5/weather?q=honolulu&units=imperial&APPID=cc8028c62f0742cf38eef5a866d89c64\n",
      "https://api.openweathermap.org/data/2.5/weather?q=sao joao da barra&units=imperial&APPID=cc8028c62f0742cf38eef5a866d89c64\n",
      "https://api.openweathermap.org/data/2.5/weather?q=thompson&units=imperial&APPID=cc8028c62f0742cf38eef5a866d89c64\n",
      "https://api.openweathermap.org/data/2.5/weather?q=punta arenas&units=imperial&APPID=cc8028c62f0742cf38eef5a866d89c64\n",
      "https://api.openweathermap.org/data/2.5/weather?q=hithadhoo&units=imperial&APPID=cc8028c62f0742cf38eef5a866d89c64\n",
      "https://api.openweathermap.org/data/2.5/weather?q=jamestown&units=imperial&APPID=cc8028c62f0742cf38eef5a866d89c64\n",
      "https://api.openweathermap.org/data/2.5/weather?q=mar del plata&units=imperial&APPID=cc8028c62f0742cf38eef5a866d89c64\n"
     ]
    }
   ],
   "source": [
    "print('Beginning Data Retrieval')\n",
    "\n",
    "print('------------------------')\n",
    "\n",
    "\n",
    "for x in range(25):\n",
    "\n",
    "    n_requests = 25\n",
    "    long_random = random.randint(-180, 180, size=n_requests)\n",
    "    lat_random= random.randint(-60,80, size=n_requests)\n",
    "\n",
    "    zipped=zip(lat_random,long_random)\n",
    "\n",
    "    for lat,lon in zipped:\n",
    "\n",
    "        city=nearest_city(lat,lon)\n",
    "        city__name=city.city_name\n",
    "        country__code=city.country_code.upper()\n",
    "\n",
    "        response=req.get(url + city__name +'&units=imperial'+'&APPID=' + apikey).json()\n",
    "            \n",
    "        try:\n",
    "            temps=response['main']['temp_max']\n",
    "            max_temp_list.append(temps)\n",
    "\n",
    "            humidity=response['main']['humidity']\n",
    "            humidity_list.append(humidity)\n",
    "\n",
    "            cloudiness=response['clouds']['all']\n",
    "            cloudiness_list.append(cloudiness)\n",
    "\n",
    "            wind=response['wind']['speed']\n",
    "            wind_speed_list.append(wind)\n",
    "            \n",
    "            date=response['dt']\n",
    "            date_list.append(date)\n",
    "\n",
    "            lat_list.append(lat)\n",
    "            long_list.append(lon)\n",
    "\n",
    "            city_list.append(city__name)\n",
    "            country_list.append(country__code)\n",
    "            \n",
    "            print(url + city__name +'&units=imperial'+'&APPID=' + apikey)\n",
    "\n",
    "        except:\n",
    "            KeyError: 'main'\n",
    "            KeyError: 'clouds'\n",
    "            KeyError:  'wind'\n",
    "            KeyError: 'temp_max'\n",
    "            KeyError: 'humidity'\n",
    "            KeyError: 'all'\n",
    "            KeyError:'speed'\n",
    "            KeyError:'dt'\n",
    "            "
   ]
  },
  {
   "cell_type": "code",
   "execution_count": null,
   "metadata": {
    "collapsed": true
   },
   "outputs": [],
   "source": [
    "city_df=pd.DataFrame({'City':city_list,'Max Temp':max_temp_list,\n",
    "                      'Humidity':humidity_list,\n",
    "                      'Cloudiness':cloudiness_list,\n",
    "                      'Wind Speed':wind_speed_list,\n",
    "                      'Latitude':lat_list,\n",
    "                      'Longitude':long_list,\n",
    "                      'Country':country_list,\n",
    "                     'Date':date_list})\n",
    "\n",
    "city_df.count()"
   ]
  },
  {
   "cell_type": "code",
   "execution_count": null,
   "metadata": {
    "collapsed": true
   },
   "outputs": [],
   "source": [
    "city_df.head(10)"
   ]
  },
  {
   "cell_type": "code",
   "execution_count": null,
   "metadata": {
    "collapsed": true
   },
   "outputs": [],
   "source": [
    "plt.grid(True,color='white')\n",
    "plt.scatter(city_df['Latitude'],city_df['Max Temp'],\n",
    "            marker='o',facecolors='green',alpha=0.75,edgecolors='blue',s=10)\n",
    "\n",
    "plt.title('City Latitude vs. Max Temperature')\n",
    "plt.xlabel('Latitude')\n",
    "plt.ylabel('Max Temperature(F)')\n",
    "plt.xlim(-80,120)\n",
    "plt.ylim(-60,120)\n",
    "\n",
    "ax=plt.gca()\n",
    "ax.set_facecolor('lightgray')\n",
    "\n",
    "plt.show()"
   ]
  },
  {
   "cell_type": "code",
   "execution_count": null,
   "metadata": {
    "collapsed": true
   },
   "outputs": [],
   "source": [
    "print(len(lat_list))"
   ]
  },
  {
   "cell_type": "code",
   "execution_count": null,
   "metadata": {
    "collapsed": true
   },
   "outputs": [],
   "source": [
    "plt.grid(True,color='white')\n",
    "plt.scatter(city_df['Latitude'],city_df['Humidity'],\n",
    "            marker='o',facecolors='green',alpha=0.75,edgecolors='blue',s=10)\n",
    "\n",
    "plt.title('City Latitude vs. Humidity(%)')\n",
    "plt.xlabel('Latitude')\n",
    "plt.ylabel('Humidity (%)')\n",
    "plt.xlim(-100,100)\n",
    "plt.ylim(0,120)\n",
    "\n",
    "ax=plt.gca()\n",
    "ax.set_facecolor('lightgray')\n",
    "\n",
    "plt.show()"
   ]
  },
  {
   "cell_type": "code",
   "execution_count": null,
   "metadata": {
    "collapsed": true
   },
   "outputs": [],
   "source": [
    "plt.grid(True,color='white')\n",
    "plt.scatter(city_df['Latitude'],city_df['Cloudiness'],\n",
    "            marker='o',facecolors='green',alpha=0.75,edgecolors='blue',s=10)\n",
    "\n",
    "plt.title('City Latitude vs. Cloudiness (%)')\n",
    "plt.xlabel('Latitude')\n",
    "plt.ylabel('Cloudiness (%)')\n",
    "plt.xlim(-100,100)\n",
    "plt.ylim(-10,120)\n",
    "\n",
    "ax=plt.gca()\n",
    "ax.set_facecolor('lightgray')\n",
    "\n",
    "plt.show()"
   ]
  },
  {
   "cell_type": "code",
   "execution_count": null,
   "metadata": {
    "collapsed": true
   },
   "outputs": [],
   "source": [
    "plt.grid(True,color='white')\n",
    "plt.scatter(city_df['Latitude'],city_df['Wind Speed'],\n",
    "            marker='o',s=10,facecolors='green',alpha=0.75,edgecolors='blue')\n",
    "\n",
    "plt.title('City Latitude vs. Wind Speed (mph)')\n",
    "plt.xlabel('Latitude')\n",
    "plt.ylabel('Wind Speed (mph)')\n",
    "plt.xlim(-100,100)\n",
    "plt.ylim(-10,50)\n",
    "\n",
    "ax=plt.gca()\n",
    "ax.set_facecolor('lightgray')\n",
    "\n",
    "plt.show()"
   ]
  }
 ],
 "metadata": {
  "kernelspec": {
   "display_name": "Python 3",
   "language": "python",
   "name": "python3"
  },
  "language_info": {
   "codemirror_mode": {
    "name": "ipython",
    "version": 3
   },
   "file_extension": ".py",
   "mimetype": "text/x-python",
   "name": "python",
   "nbconvert_exporter": "python",
   "pygments_lexer": "ipython3",
   "version": "3.6.2"
  }
 },
 "nbformat": 4,
 "nbformat_minor": 2
}
