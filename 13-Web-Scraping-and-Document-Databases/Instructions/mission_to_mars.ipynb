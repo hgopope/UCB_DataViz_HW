{
 "cells": [
  {
   "cell_type": "code",
   "execution_count": 144,
   "metadata": {
    "collapsed": true,
    "scrolled": true
   },
   "outputs": [],
   "source": [
    "from bs4 import BeautifulSoup as bs\n",
    "import os\n",
    "import requests\n",
    "# import pymongo\n",
    "from splinter import Browser\n",
    "browser = Browser('chrome')\n",
    "import pandas as pd"
   ]
  },
  {
   "cell_type": "code",
   "execution_count": 145,
   "metadata": {
    "collapsed": true
   },
   "outputs": [],
   "source": [
    "url = 'https://mars.nasa.gov/news/'"
   ]
  },
  {
   "cell_type": "code",
   "execution_count": 146,
   "metadata": {},
   "outputs": [
    {
     "name": "stdout",
     "output_type": "stream",
     "text": [
      "<class 'bs4.BeautifulSoup'>\n"
     ]
    }
   ],
   "source": [
    "response = requests.get(url)\n",
    "\n",
    "soup = bs(response.text, 'html.parser')\n",
    "\n",
    "print(type(soup))"
   ]
  },
  {
   "cell_type": "code",
   "execution_count": 147,
   "metadata": {},
   "outputs": [
    {
     "name": "stdout",
     "output_type": "stream",
     "text": [
      "\n",
      "\n",
      "Mars Reconnaissance Orbiter Mission Status Report\n",
      "\n",
      "\n"
     ]
    }
   ],
   "source": [
    "title_list = []\n",
    "# news_title = soup.find_all('a', class_='content_title')\n",
    "news_title = soup.find_all('div', class_='content_title')\n",
    "for paragraph in news_title:\n",
    "    title_list.append(paragraph.text)\n",
    "print(title_list[0])\n",
    "# print(soup.prettify())"
   ]
  },
  {
   "cell_type": "code",
   "execution_count": 148,
   "metadata": {},
   "outputs": [
    {
     "name": "stdout",
     "output_type": "stream",
     "text": [
      "\n",
      "\n",
      "\n",
      "\n",
      "Diagnostic work is the focus for resuming service and exiting safe standby status.\n",
      "\n",
      "\n",
      "\n",
      "\n",
      "\n",
      "\n",
      "\n",
      "\n"
     ]
    }
   ],
   "source": [
    "para_list = []\n",
    "news_p = soup.find_all('div',class_='image_and_description_container')\n",
    "for paragraph in news_p:\n",
    "   para_list.append(paragraph.text)\n",
    "print(para_list[0])"
   ]
  },
  {
   "cell_type": "code",
   "execution_count": 149,
   "metadata": {
    "collapsed": true
   },
   "outputs": [],
   "source": [
    "#### Scrape NASA Jet Propulsion Lab's martian website\n",
    "#### for latest featured image. \n",
    "browser = Browser('chrome', headless=False)\n",
    "jpl_url = 'https://www.jpl.nasa.gov/spaceimages/?search=&category=Mars'\n",
    "browser.visit(jpl_url)\n",
    "html2 = browser.html\n",
    "soup2 = bs(html2, 'html.parser')\n",
    "# browser.quit()\n",
    "# print(soup2)"
   ]
  },
  {
   "cell_type": "code",
   "execution_count": 150,
   "metadata": {},
   "outputs": [
    {
     "name": "stdout",
     "output_type": "stream",
     "text": [
      "https://www.jpl.nasa.gov/spaceimages/images/wallpaper/PIA20464-1920x1200.jpg\n"
     ]
    }
   ],
   "source": [
    "featured_image = soup2.find_all('div', class_='carousel_items')\n",
    "featured_image_url = \"https://www.jpl.nasa.gov/\" + str(featured_image).split(\"url('/\")[1].split(\"');\")[0]\n",
    "print(featured_image_url)"
   ]
  },
  {
   "cell_type": "code",
   "execution_count": 151,
   "metadata": {
    "collapsed": true
   },
   "outputs": [],
   "source": [
    "weather_url = 'https://twitter.com/marswxreport?lang=en'\n",
    "browser.visit(weather_url)\n",
    "html3 = browser.html\n",
    "soup3 = bs(html3, \"html.parser\")\n",
    "# print(soup3.prettify())\n",
    "# mars_weather"
   ]
  },
  {
   "cell_type": "code",
   "execution_count": 152,
   "metadata": {},
   "outputs": [
    {
     "name": "stdout",
     "output_type": "stream",
     "text": [
      "<p class=\"TweetTextSize TweetTextSize--normal js-tweet-text tweet-text\" data-aria-label-part=\"0\" lang=\"en\">Sol 1964 (Feb 14, 2018), Sunny, high -16C/3F, low -76C/-104F, pressure at 7.36 hPa, daylight 05:40-17:26</p>\n"
     ]
    }
   ],
   "source": [
    "weather_list=[]\n",
    "results_weather=soup3.find_all('p',class_=\"TweetTextSize TweetTextSize--normal js-tweet-text tweet-text\")\n",
    "for weather_tweet in results_weather:\n",
    "    weather_list.append((weather_tweet))\n",
    "# print(weather_list[0])\n",
    "mars_weather = weather_list[0]\n",
    "print(mars_weather)"
   ]
  },
  {
   "cell_type": "code",
   "execution_count": 162,
   "metadata": {
    "collapsed": true
   },
   "outputs": [],
   "source": [
    "tweet_mars=mars_weather.text.strip()"
   ]
  },
  {
   "cell_type": "code",
   "execution_count": 163,
   "metadata": {},
   "outputs": [
    {
     "name": "stdout",
     "output_type": "stream",
     "text": [
      "Sol 1964 (Feb 14, 2018), Sunny, high -16C/3F, low -76C/-104F, pressure at 7.36 hPa, daylight 05:40-17:26\n"
     ]
    }
   ],
   "source": [
    "print(tweet_mars)"
   ]
  },
  {
   "cell_type": "code",
   "execution_count": 155,
   "metadata": {
    "collapsed": true
   },
   "outputs": [],
   "source": [
    "url_t='http://space-facts.com/mars/'\n",
    "table_facts = pd.read_html(url_t)"
   ]
  },
  {
   "cell_type": "code",
   "execution_count": 156,
   "metadata": {
    "collapsed": true
   },
   "outputs": [],
   "source": [
    "table_facts[0].to_html('mars_facts.html', header=False)"
   ]
  },
  {
   "cell_type": "code",
   "execution_count": 157,
   "metadata": {
    "collapsed": true
   },
   "outputs": [],
   "source": [
    "hemi_url = 'https://astrogeology.usgs.gov/search/results?q=hemisphere+enhanced&k1=target&v1=Mars'\n",
    "browser.visit(hemi_url)\n",
    "html4 = browser.html\n",
    "soup4 = bs(html4, \"html.parser\")\n",
    "# print(soup4.prettify())"
   ]
  },
  {
   "cell_type": "code",
   "execution_count": 160,
   "metadata": {},
   "outputs": [
    {
     "name": "stdout",
     "output_type": "stream",
     "text": [
      "[{'title': 'Cerberus Hemisphere', 'img_url': 'http://astropedia.astrogeology.usgs.gov/download/Mars/Viking/cerberus_enhanced.tif'}, {'title': 'Schiaparelli Hemisphere', 'img_url': 'http://astropedia.astrogeology.usgs.gov/download/Mars/Viking/schiaparelli_enhanced.tif'}, {'title': 'Syrtis Major Hemisphere', 'img_url': 'http://astropedia.astrogeology.usgs.gov/download/Mars/Viking/syrtis_major_enhanced.tif'}, {'title': 'Valles Marineris Hemisphere', 'img_url': 'http://astropedia.astrogeology.usgs.gov/download/Mars/Viking/valles_marineris_enhanced.tif'}]\n"
     ]
    }
   ],
   "source": [
    "hemi_list=[]\n",
    "results_hemisphere = soup4.find_all('div',class_=\"description\")\n",
    "\n",
    "for hemi in results_hemisphere:\n",
    "    hemi_list.append('https://astrogeology.usgs.gov' + str(hemi).split('href=\"')[1].split('\"><h3>')[0])\n",
    "\n",
    "# print(hemi_list)\n",
    "# yup=hemi_list[0]\n",
    "# trys = yup.text.strip()\n",
    "# print(trys)\n",
    "\n",
    "# print(hemi_list)\n",
    "\n",
    "hemisphere_image_urls = []\n",
    "\n",
    "for sphere in hemi_list:\n",
    "    browser = Browser('chrome', headless=False)\n",
    "    sphere_url = sphere\n",
    "    browser.visit(sphere_url)\n",
    "    html5 = browser.html\n",
    "    soup5 = bs(html5, 'html.parser')\n",
    "    hemis = soup5.findAll(\"div\", class_=\"content\")\n",
    "    hemisphere_image_urls.append({\n",
    "            \"title\" : str(hemis).split('\"title\">')[1].split(' Enhanced<')[0],\n",
    "            \"img_url\" : str(hemis).split('Filename</dt><dd><a href=\"')[1].split('\">')[0]\n",
    "        })\n",
    "print(hemisphere_image_urls)"
   ]
  },
  {
   "cell_type": "code",
   "execution_count": null,
   "metadata": {
    "collapsed": true
   },
   "outputs": [],
   "source": []
  }
 ],
 "metadata": {
  "kernelspec": {
   "display_name": "Python [default]",
   "language": "python",
   "name": "python3"
  },
  "language_info": {
   "codemirror_mode": {
    "name": "ipython",
    "version": 3
   },
   "file_extension": ".py",
   "mimetype": "text/x-python",
   "name": "python",
   "nbconvert_exporter": "python",
   "pygments_lexer": "ipython3",
   "version": "3.6.3"
  }
 },
 "nbformat": 4,
 "nbformat_minor": 2
}
